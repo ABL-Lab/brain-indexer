{
 "cells": [
  {
   "cell_type": "markdown",
   "metadata": {},
   "source": [
    "![The glorious SpatialIndex logo](img/spatial_index_logo.png)\n",
    "# SpatialIndex Advanced Tutorial with Jupyter Notebook"
   ]
  },
  {
   "cell_type": "markdown",
   "metadata": {},
   "source": [
    "##Introduction\n",
    "If you're here and you haven't followed the previous tutorial `basic_tutorial.ipynb` maybe you should. It will give you the basics to understand what's going on here.\n",
    "\n",
    "Or don't do it, I won't force you, I'm not your boss."
   ]
  },
  {
   "cell_type": "markdown",
   "metadata": {},
   "source": [
    "## Advanced usage\n",
    "### Multi-indexing\n",
    "\n",
    "If you have a huge circuit to index, you can resort to multi-indexing in order to index the big circuit faster. This techniques splits the whole circuit in multiple subtrees that can be processed in parallel using MPI. \n",
    "\n",
    "To do so you can create a multi-index object like this:\n",
    "\n",
    "**Keep in mind that this and the following code won't work directly in this Jupyter notebook due to the necessity of MPI support. You can create a script with this code and run it using the usual `srun` for example.**"
   ]
  },
  {
   "cell_type": "code",
   "execution_count": null,
   "metadata": {},
   "outputs": [],
   "source": [
    "import spatial_index\n",
    "from spatial_index import MorphMultiIndexBuilder\n",
    "\n",
    "OUTPUT_DIR = \"multi_index_2k\"\n",
    "\n",
    "MorphMultiIndexBuilder.from_sonata_file(\n",
    "    MORPH_FILE,\n",
    "    NODE_FILE,\n",
    "    \"All\",\n",
    "    output_dir=OUTPUT_DIR,\n",
    ")"
   ]
  },
  {
   "cell_type": "markdown",
   "metadata": {},
   "source": [
    "We're specifying the same circuit files as before and then also supplying a folder that will contain all the subtrees that are generated. \n",
    "\n",
    "Once this process is complete, you can load the generated index using the `open_index` method of the `MorphMultiIndexBuilder` class, specifying the output folder of the previous execution and the amount of memory to allocate for loading the index.\n",
    "\n",
    "You can then perform normal queries like on the usual index."
   ]
  },
  {
   "cell_type": "code",
   "execution_count": null,
   "metadata": {},
   "outputs": [],
   "source": [
    "# The index may use at most roughly 1e6 bytes.\n",
    "index = spatial_index.open_index(OUTPUT_DIR, mem=int(1e6))\n",
    "\n",
    "found = index.find_intersecting_window_np(min_corner, max_corner)\n",
    "print(found)"
   ]
  },
  {
   "cell_type": "markdown",
   "metadata": {},
   "source": [
    "### Memory Mapping\n",
    "\n",
    "Alternatively, in case of a a big index and/or nodes with limited amount of memory, you can perform the indexing operation not in memory but directly on disk. This technique is known as Memory Mapping and allows to index huge circuit that would normally not fit inside the limits of the memory.\n",
    "\n",
    "**On BB5 we recommend that you DON'T use GPFS for these purposes. Please allocate a node with access to fast NVME storage. Execution of memory mapped index building on GPFS will lead to long execution time and possibly disruption to the performance of GPFS for all the users of BB5.**\n",
    "\n",
    "You can index a circuit with memory mapping directly from the command line (or better from a bash script) like this:"
   ]
  },
  {
   "cell_type": "code",
   "execution_count": null,
   "metadata": {
    "vscode": {
     "languageId": "shellscript"
    }
   },
   "outputs": [],
   "source": [
    "%%bash\n",
    "\n",
    "# Store the memory mapped index in this location \n",
    "TMP_FILE=\"/nvme/$USER/$SLURM_JOB_ID/segment_index.bin\"\n",
    "\n",
    "# Specify circuit files\n",
    "NODES_FILE=/gpfs/bbp.cscs.ch/project/proj12/spatial_index/v0/circuit-2k/circuit.mvd3\n",
    "MORPHOLOGY_LIB=/gpfs/bbp.cscs.ch/project/proj12/spatial_index/v0/circuit-2k/morphologies/ascii\n",
    "\n",
    "# Run the CLI command using the --use-mem-map clause, specifying the max size of the index in MB\n",
    "# The --shrink-on-close option allows the index to be automatically resized at the end of the execution\n",
    "# possibly saving some space on disk.\n",
    "\n",
    "spatial-index-nodes --use-mem-map=1000000 --shrink-on-close $NODES_FILE $MORPHOLOGY_LIB -o $TMP_FILE\n",
    "\n",
    "# Copy the file elsewhere at the end of the execution\n",
    "mv $TMP_FILE ./"
   ]
  },
  {
   "cell_type": "markdown",
   "metadata": {},
   "source": [
    "This will create an index in the specified location. If, as you should, you're running your code in a allocated instance with access to NVME storage, be sure to copy the file elsewhere at the end of the execution or it might be lost once the allocation is over.\n",
    "\n",
    "After the index is created, you can simply load it into any of your Python scripts using the `load_disk_mem_map` method of the `MorphIndexBuilder` class and then perform queries normally."
   ]
  },
  {
   "cell_type": "code",
   "execution_count": null,
   "metadata": {
    "vscode": {
     "languageId": "shellscript"
    }
   },
   "outputs": [],
   "source": [
    "index_pre = spatial_index.open_index(\"/path/to/memory_map/index\")"
   ]
  },
  {
   "cell_type": "markdown",
   "metadata": {},
   "source": [
    "This concludes the advanced tutorial. You now have all the tools, basics and advanced, to use SpatialIndex.\n",
    "\n",
    "**Thanks a lot for your time and for making until the end of this tutorial. 🎉🎉🎉**\n",
    "\n",
    "The SpatialIndex team hopes that this tool will make your life easier, lead to better results but mostly that you'll have fun with it as much as we had fun creating it!\n",
    "\n",
    "**Disclaimer:** This tool is not meant to be fun but we have no right of deciding what's fun and what's not so, yeah, we just hope you don't hate it. And if you do, please let us know, kindly, and we'll do our best to improve it. Swearing is NEVER the answer."
   ]
  }
 ],
 "metadata": {
  "kernelspec": {
   "display_name": "Python 3.9.7 ('venv': venv)",
   "language": "python",
   "name": "python3"
  },
  "language_info": {
   "name": "python",
   "version": "3.9.7"
  },
  "orig_nbformat": 4,
  "vscode": {
   "interpreter": {
    "hash": "3e114e1f4fb82502fa733e8f3ebf0a137e266fe56a980e57b18e4ea32cca23c2"
   }
  }
 },
 "nbformat": 4,
 "nbformat_minor": 2
}
